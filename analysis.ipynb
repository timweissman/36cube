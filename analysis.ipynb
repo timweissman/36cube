{
 "cells": [
  {
   "cell_type": "code",
   "execution_count": 3,
   "id": "d3e81bf3-8298-491c-8509-44f12d497581",
   "metadata": {},
   "outputs": [],
   "source": [
    "from pathlib import Path\n",
    "\n",
    "import pandas as pd"
   ]
  },
  {
   "cell_type": "code",
   "execution_count": 4,
   "id": "6df44c28-8317-4721-8057-cfb1a4f9931c",
   "metadata": {},
   "outputs": [
    {
     "data": {
      "text/plain": [
       "PosixPath('data/heights.csv')"
      ]
     },
     "execution_count": 4,
     "metadata": {},
     "output_type": "execute_result"
    }
   ],
   "source": [
    "heights_path = Path('data') / 'heights.csv'\n",
    "heights_path"
   ]
  },
  {
   "cell_type": "code",
   "execution_count": 7,
   "id": "4fd80ac9-03e0-4eac-8129-cba848ecf2a2",
   "metadata": {},
   "outputs": [
    {
     "data": {
      "text/html": [
       "<div>\n",
       "<style scoped>\n",
       "    .dataframe tbody tr th:only-of-type {\n",
       "        vertical-align: middle;\n",
       "    }\n",
       "\n",
       "    .dataframe tbody tr th {\n",
       "        vertical-align: top;\n",
       "    }\n",
       "\n",
       "    .dataframe thead th {\n",
       "        text-align: right;\n",
       "    }\n",
       "</style>\n",
       "<table border=\"1\" class=\"dataframe\">\n",
       "  <thead>\n",
       "    <tr style=\"text-align: right;\">\n",
       "      <th></th>\n",
       "      <th>0</th>\n",
       "      <th>1</th>\n",
       "      <th>2</th>\n",
       "      <th>3</th>\n",
       "      <th>4</th>\n",
       "      <th>5</th>\n",
       "    </tr>\n",
       "  </thead>\n",
       "  <tbody>\n",
       "    <tr>\n",
       "      <th>0</th>\n",
       "      <td>5</td>\n",
       "      <td>3</td>\n",
       "      <td>2</td>\n",
       "      <td>1</td>\n",
       "      <td>4</td>\n",
       "      <td>6</td>\n",
       "    </tr>\n",
       "    <tr>\n",
       "      <th>1</th>\n",
       "      <td>4</td>\n",
       "      <td>1</td>\n",
       "      <td>6</td>\n",
       "      <td>2</td>\n",
       "      <td>5</td>\n",
       "      <td>3</td>\n",
       "    </tr>\n",
       "    <tr>\n",
       "      <th>2</th>\n",
       "      <td>6</td>\n",
       "      <td>5</td>\n",
       "      <td>3</td>\n",
       "      <td>4</td>\n",
       "      <td>1</td>\n",
       "      <td>2</td>\n",
       "    </tr>\n",
       "    <tr>\n",
       "      <th>3</th>\n",
       "      <td>1</td>\n",
       "      <td>2</td>\n",
       "      <td>5</td>\n",
       "      <td>3</td>\n",
       "      <td>6</td>\n",
       "      <td>4</td>\n",
       "    </tr>\n",
       "    <tr>\n",
       "      <th>4</th>\n",
       "      <td>2</td>\n",
       "      <td>4</td>\n",
       "      <td>1</td>\n",
       "      <td>6</td>\n",
       "      <td>3</td>\n",
       "      <td>5</td>\n",
       "    </tr>\n",
       "    <tr>\n",
       "      <th>5</th>\n",
       "      <td>3</td>\n",
       "      <td>6</td>\n",
       "      <td>4</td>\n",
       "      <td>5</td>\n",
       "      <td>2</td>\n",
       "      <td>1</td>\n",
       "    </tr>\n",
       "  </tbody>\n",
       "</table>\n",
       "</div>"
      ],
      "text/plain": [
       "   0  1  2  3  4  5\n",
       "0  5  3  2  1  4  6\n",
       "1  4  1  6  2  5  3\n",
       "2  6  5  3  4  1  2\n",
       "3  1  2  5  3  6  4\n",
       "4  2  4  1  6  3  5\n",
       "5  3  6  4  5  2  1"
      ]
     },
     "execution_count": 7,
     "metadata": {},
     "output_type": "execute_result"
    }
   ],
   "source": [
    "heights = pd.read_csv(heights_path, header=None)\n",
    "heights"
   ]
  },
  {
   "cell_type": "code",
   "execution_count": 14,
   "id": "d56d369d-ee96-4982-a326-aac2ad4c3a1d",
   "metadata": {},
   "outputs": [
    {
     "data": {
      "text/plain": [
       "0     1\n",
       "1     4\n",
       "2    16\n",
       "3     9\n",
       "4    36\n",
       "5    25\n",
       "Name: 3, dtype: int64"
      ]
     },
     "execution_count": 14,
     "metadata": {},
     "output_type": "execute_result"
    }
   ],
   "source": [
    "heights[3].apply(lambda x: x**2)"
   ]
  },
  {
   "cell_type": "code",
   "execution_count": 91,
   "id": "870d8176-6f47-4037-a77f-09dbda10d14a",
   "metadata": {},
   "outputs": [
    {
     "data": {
      "text/plain": [
       "0    1\n",
       "1    2\n",
       "2    4\n",
       "3    3\n",
       "4    6\n",
       "5    5\n",
       "Name: 3, dtype: int64"
      ]
     },
     "execution_count": 91,
     "metadata": {},
     "output_type": "execute_result"
    }
   ],
   "source": [
    "heights[3]"
   ]
  },
  {
   "cell_type": "code",
   "execution_count": 107,
   "id": "b57ae274-6baa-4513-b871-255c31c0559a",
   "metadata": {},
   "outputs": [],
   "source": [
    "def check_pairs(set1,set2,roworcol):\n",
    "    if roworcol:\n",
    "        upper = heights.loc[set1]\n",
    "        lower = heights.loc[set2]\n",
    "    else:\n",
    "        upper = heights[set1]\n",
    "        lower = heights[set2]\n",
    "    pair = 0\n",
    "    found = False\n",
    "    while found == False and pair < 5:\n",
    "        for i in range(6):\n",
    "            if (upper[pair] == lower[i]) and (lower[pair] == upper[i]):\n",
    "                print(\"pair: \"+str(pair)+\", \"+str(i))\n",
    "                found = True\n",
    "        pair+=1\n"
   ]
  },
  {
   "cell_type": "code",
   "execution_count": 113,
   "id": "1e817e8f-0ae8-4568-b5ea-fc4508ab114a",
   "metadata": {},
   "outputs": [
    {
     "name": "stdout",
     "output_type": "stream",
     "text": [
      "row/col:0\n",
      "pair: 0, 4\n",
      "row/col:1\n",
      "pair: 1, 4\n",
      "row/col:2\n",
      "pair: 0, 4\n",
      "row/col:3\n",
      "pair: 3, 4\n",
      "row/col:4\n",
      "pair: 0, 4\n"
     ]
    }
   ],
   "source": [
    "for i in range(5):\n",
    "    print(\"row/col:\"+str(i))\n",
    "    check_pairs(i,i+1,True)"
   ]
  },
  {
   "cell_type": "code",
   "execution_count": null,
   "id": "4b7e2aa1-8f9f-4f7e-bcac-1399de4232cd",
   "metadata": {},
   "outputs": [],
   "source": []
  }
 ],
 "metadata": {
  "kernelspec": {
   "display_name": "Python 3 (ipykernel)",
   "language": "python",
   "name": "python3"
  },
  "language_info": {
   "codemirror_mode": {
    "name": "ipython",
    "version": 3
   },
   "file_extension": ".py",
   "mimetype": "text/x-python",
   "name": "python",
   "nbconvert_exporter": "python",
   "pygments_lexer": "ipython3",
   "version": "3.8.10"
  }
 },
 "nbformat": 4,
 "nbformat_minor": 5
}
